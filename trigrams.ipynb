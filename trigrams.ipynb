{
 "cells": [
  {
   "cell_type": "code",
   "execution_count": 56,
   "metadata": {},
   "outputs": [],
   "source": [
    "# Imports\n",
    "import collections"
   ]
  },
  {
   "cell_type": "markdown",
   "metadata": {},
   "source": [
    "Before I can get going on this I need to remove any preamble, postamble, and non ASCII characters. \n",
    "I also need to convert everything to upper case."
   ]
  },
  {
   "cell_type": "code",
   "execution_count": 57,
   "metadata": {},
   "outputs": [],
   "source": [
    "def cleanText(fileName):\n",
    "  # Reading all the text from one of the books.\n",
    "  with open(\"books/\" + fileName + \".txt\", 'r') as file:\n",
    "    bookText = file.read()\n",
    "\n",
    "  # Removing the preamble and postamble.\n",
    "  bookText = bookText[bookText.find(\"*** START\"):bookText.find(\"*** END\")]\n",
    "\n",
    "  # Printing to check if it worked.\n",
    "  #print(bookText)\n",
    "\n",
    "  # Convert everything to upper case.\n",
    "  bookText = bookText.upper()\n",
    "\n",
    "  # The characters to keep.\n",
    "  charsToKeep = \"ABCDEFGHIJKLMNOPQRSTUVWXYZ .\"\n",
    "\n",
    "  # Removing all the characters that are not in the keep string.\n",
    "  cleanedText = ''.join([c for c in bookText if c in charsToKeep])\n",
    "\n",
    "  # Printing to check if it worked.\n",
    "  #print(cleanedText)\n",
    "\n",
    "  return cleanedText"
   ]
  },
  {
   "cell_type": "markdown",
   "metadata": {},
   "source": [
    "Now I need to add all the book text together in to one big string."
   ]
  },
  {
   "cell_type": "code",
   "execution_count": 58,
   "metadata": {},
   "outputs": [],
   "source": [
    "# List of books to go through.\n",
    "bookNames = [\"book1\", \"book2\", \"book3\", \"book4\", \"book5\"]\n",
    "\n",
    "# Go through every book and add them to the string.\n",
    "allText = \"\"\n",
    "\n",
    "for bookName in bookNames:\n",
    "  allText += cleanText(bookName)\n",
    "\n",
    "# Printing to check if it worked.\n",
    "#print(allText)"
   ]
  }
 ],
 "metadata": {
  "kernelspec": {
   "display_name": "base",
   "language": "python",
   "name": "python3"
  },
  "language_info": {
   "codemirror_mode": {
    "name": "ipython",
    "version": 3
   },
   "file_extension": ".py",
   "mimetype": "text/x-python",
   "name": "python",
   "nbconvert_exporter": "python",
   "pygments_lexer": "ipython3",
   "version": "3.11.5"
  }
 },
 "nbformat": 4,
 "nbformat_minor": 2
}
