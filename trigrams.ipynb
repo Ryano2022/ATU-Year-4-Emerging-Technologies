{
 "cells": [
  {
   "cell_type": "markdown",
   "metadata": {},
   "source": [
    "# Trigrams\n",
    "## Task 1: Third-order letter approximation model"
   ]
  },
  {
   "cell_type": "code",
   "execution_count": 11,
   "metadata": {},
   "outputs": [],
   "source": [
    "# Imports\n",
    "import random\n",
    "import json"
   ]
  },
  {
   "cell_type": "markdown",
   "metadata": {},
   "source": [
    "`cleanText` removes any of the preamble, postamble and non ASCII characters for later use."
   ]
  },
  {
   "cell_type": "code",
   "execution_count": 12,
   "metadata": {},
   "outputs": [],
   "source": [
    "def cleanText(fileName):\n",
    "  # Reading all the text from one of the books.\n",
    "  with open(\"data/books/\" + fileName + \".txt\", 'r') as file:\n",
    "    bookText = file.read()\n",
    "\n",
    "  # Removing the preamble and postamble.\n",
    "  bookText = bookText[bookText.find(\"*** START\"):bookText.find(\"*** END\")]\n",
    "\n",
    "  # Printing to check if it worked.\n",
    "  #print(bookText)\n",
    "\n",
    "  # Convert everything to upper case.\n",
    "  bookText = bookText.upper()\n",
    "\n",
    "  # The characters to keep.\n",
    "  charsToKeep = \"ABCDEFGHIJKLMNOPQRSTUVWXYZ .\"\n",
    "\n",
    "  # Removing all the characters that are not in the keep string.\n",
    "  cleanedText = ''.join([c for c in bookText if c in charsToKeep])\n",
    "\n",
    "  # Printing to check if it worked.\n",
    "  #print(cleanedText)\n",
    "\n",
    "  return cleanedText"
   ]
  },
  {
   "cell_type": "markdown",
   "metadata": {},
   "source": [
    "Next we get the list of book names and run them through the above `cleanText`. We then add that all in to one big string."
   ]
  },
  {
   "cell_type": "code",
   "execution_count": 13,
   "metadata": {},
   "outputs": [],
   "source": [
    "# List of books to go through.\n",
    "bookNames = [\"book1\", \"book2\", \"book3\", \"book4\", \"book5\"]\n",
    "\n",
    "# Go through every book and add them to the string.\n",
    "allText = \"\"\n",
    "\n",
    "for bookName in bookNames:\n",
    "  allText += cleanText(bookName)\n",
    "\n",
    "# Printing to check if it worked.\n",
    "#print(allText)"
   ]
  },
  {
   "cell_type": "markdown",
   "metadata": {},
   "source": [
    "You now go through every character in the newly created string from above and grab all the trigrams out of it by grabbing the current, previous and next character and plopping it in to a variable called `trigram`. This also gets slotted in to a dictionary called `trigrams`."
   ]
  },
  {
   "cell_type": "code",
   "execution_count": 14,
   "metadata": {},
   "outputs": [
    {
     "data": {
      "text/plain": [
       "[(' ST', 3598),\n",
       " ('STA', 1507),\n",
       " ('TAR', 380),\n",
       " ('ART', 1529),\n",
       " ('RT ', 859),\n",
       " ('T O', 2164),\n",
       " (' OF', 10852),\n",
       " ('OF ', 10231),\n",
       " ('F T', 3821),\n",
       " (' TH', 33693)]"
      ]
     },
     "execution_count": 14,
     "metadata": {},
     "output_type": "execute_result"
    }
   ],
   "source": [
    "# Creating a dictionary to store the results in.\n",
    "trigrams = {}\n",
    "\n",
    "# Loop through the entire string and find the \n",
    "# characters at index i -1, i, and i +1 and add them to the dictionary.\n",
    "for i in range(1, len(allText) - 1):\n",
    "  trigram = allText[i - 1] + allText[i] + allText[i + 1]\n",
    "  trigrams[trigram] = trigrams.get(trigram, 0) + 1\n",
    "\n",
    "# Print to check if working.\n",
    "list(trigrams.items())[:10]"
   ]
  },
  {
   "cell_type": "markdown",
   "metadata": {},
   "source": [
    "Displaying the first ten trigrams in decreasing order. Ordered by highest frequency to lowest frequency."
   ]
  },
  {
   "cell_type": "code",
   "execution_count": 15,
   "metadata": {},
   "outputs": [
    {
     "data": {
      "text/plain": [
       "[('   ', 80495),\n",
       " (' TH', 33693),\n",
       " ('THE', 29058),\n",
       " ('HE ', 23812),\n",
       " ('ND ', 12931),\n",
       " ('AND', 12745),\n",
       " (' AN', 12251),\n",
       " (' OF', 10852),\n",
       " ('OF ', 10231),\n",
       " ('ED ', 9367)]"
      ]
     },
     "execution_count": 15,
     "metadata": {},
     "output_type": "execute_result"
    }
   ],
   "source": [
    "# Show in decreasing order (but only the first ten).\n",
    "sorted(trigrams.items(), key=lambda x: x[1], reverse=True)[:10]"
   ]
  },
  {
   "cell_type": "markdown",
   "metadata": {},
   "source": [
    "## Task 2: Third-order letter approximation generation\n",
    "We begin with \"TH\" for this. Until `generatedText` is ten thousand characters long, we keep using the trigrams that start with the last two characters of `generatedText`. Once we're at ten thousand we stop."
   ]
  },
  {
   "cell_type": "code",
   "execution_count": 16,
   "metadata": {},
   "outputs": [
    {
     "data": {
      "text/plain": [
       "'THE ENTERITEALL THE DE SONG AT IN HARELL ISHER QUE RE SEN AND HAUGH THERROW THEREY AS COUNDE DOT COL'"
      ]
     },
     "execution_count": 16,
     "metadata": {},
     "output_type": "execute_result"
    }
   ],
   "source": [
    "# Starter text.\n",
    "generatedText = \"TH\"\n",
    "\n",
    "# Keep going until the generated text is 10,000 characters long.\n",
    "while len(generatedText) < 10000:\n",
    "  # Lists to store the characters and their weights.\n",
    "  chars, weights = [], []\n",
    "\n",
    "  # Loop through the trigrams and find the ones that start with the last two characters of the generated text.\n",
    "  for key, value in trigrams.items():\n",
    "    # If the key starts with the last two characters of the generated text.\n",
    "    if key[:2] == generatedText[-2:]:\n",
    "      # Add the third character to the chars list and the value to the weights list.\n",
    "      chars.append(key[2])\n",
    "      # The value is the weight of the character.\n",
    "      weights.append(value)\n",
    "\n",
    "  # Add a random character to the generated text using the weights.\n",
    "  generatedText += random.choices(chars, weights=weights)[0]\n",
    "\n",
    "# Print the generated text (but only the first one hundred characters).\n",
    "generatedText[:100]"
   ]
  },
  {
   "cell_type": "markdown",
   "metadata": {},
   "source": [
    "## Task 3: Analysing my model\n",
    "Now we have to run through the text we just generated and check how much of it was actual English. First we open the `words.txt` file to compare to."
   ]
  },
  {
   "cell_type": "code",
   "execution_count": 17,
   "metadata": {},
   "outputs": [],
   "source": [
    "# First read in the words.txt file.\n",
    "with open(\"data/words.txt\", 'r') as file:\n",
    "  words = file.read().splitlines()\n",
    "\n",
    "# Print to check if it worked.\n",
    "#words"
   ]
  },
  {
   "cell_type": "markdown",
   "metadata": {},
   "source": [
    "In `realWordPercentage`, as you can guess, we're checking the percentage. We do this by splitting all the words in `text` (which is an inputted variable) in to individual words and slap them in to `wordsToCompare`. We then loop through every word in wordsToCompare and check if they exist in `realWords`. We add a counter for every real word found. We then use those variables to create `percentage` and return it."
   ]
  },
  {
   "cell_type": "code",
   "execution_count": 18,
   "metadata": {},
   "outputs": [],
   "source": [
    "def realWordPercentage(text, realWords):\n",
    "  checkedWordsReal = 0\n",
    "\n",
    "  # Split the text to check in to individual words.\n",
    "  wordsToCompare = text.split()\n",
    "\n",
    "  # Count how many words are in the wordsToCheck.\n",
    "  wordCount = len(wordsToCompare)\n",
    "\n",
    "  # Loop through all the words in the wordsToCheck list.\n",
    "  for word in wordsToCompare:\n",
    "    if word in realWords:\n",
    "      checkedWordsReal += 1\n",
    "\n",
    "  # Calculate the percentage of words that are in the realWords list.\n",
    "  percentage = round(checkedWordsReal / wordCount * 100, 2)\n",
    "\n",
    "  # Return the percentage of words that are in the realWords list.\n",
    "  return percentage"
   ]
  },
  {
   "cell_type": "markdown",
   "metadata": {},
   "source": [
    "Now we actually run the above method and print the percentage out."
   ]
  },
  {
   "cell_type": "code",
   "execution_count": 19,
   "metadata": {},
   "outputs": [
    {
     "data": {
      "text/plain": [
       "33.86"
      ]
     },
     "execution_count": 19,
     "metadata": {},
     "output_type": "execute_result"
    }
   ],
   "source": [
    "realWordPercentage(generatedText, words)"
   ]
  },
  {
   "cell_type": "markdown",
   "metadata": {},
   "source": [
    "# Task 4: Exporting my model as JSON"
   ]
  },
  {
   "cell_type": "markdown",
   "metadata": {},
   "source": [
    "We imported `JSON` at the top. We then open it as `json_file` and dump `trigrams` in. We then print that it was exported."
   ]
  },
  {
   "cell_type": "code",
   "execution_count": 20,
   "metadata": {},
   "outputs": [
    {
     "name": "stdout",
     "output_type": "stream",
     "text": [
      "Trigram model exported as trigram_model.json\n"
     ]
    }
   ],
   "source": [
    "# Export the trigram model as JSON.\n",
    "with open('trigrams.json', 'w') as json_file:\n",
    "    json.dump(trigrams, json_file)\n",
    "\n",
    "# Print confirmation.\n",
    "print(\"Trigram model exported as trigram_model.json\")"
   ]
  },
  {
   "cell_type": "markdown",
   "metadata": {},
   "source": [
    "## Summary\n",
    "\n",
    "In this notebook, we:\n",
    "1. Created a third-order letter approximation model using trigrams from five books.\n",
    "2. Generated ten thousand characters of text using the model starting with 'TH'.\n",
    "3. Analysed the generated text and found that approximately 34% were real English words.\n",
    "4. Exported the trigram model to JSON format for future use."
   ]
  }
 ],
 "metadata": {
  "kernelspec": {
   "display_name": "base",
   "language": "python",
   "name": "python3"
  },
  "language_info": {
   "codemirror_mode": {
    "name": "ipython",
    "version": 3
   },
   "file_extension": ".py",
   "mimetype": "text/x-python",
   "name": "python",
   "nbconvert_exporter": "python",
   "pygments_lexer": "ipython3",
   "version": "3.12.4"
  }
 },
 "nbformat": 4,
 "nbformat_minor": 2
}
