{
 "cells": [
  {
   "cell_type": "code",
   "execution_count": 47,
   "metadata": {},
   "outputs": [],
   "source": [
    "# Imports\n",
    "import collections"
   ]
  },
  {
   "cell_type": "markdown",
   "metadata": {},
   "source": [
    "Before I can get going on this I need to remove any preamble, postamble, and non ASCII characters. \n",
    "I also need to convert everything to upper case."
   ]
  },
  {
   "cell_type": "code",
   "execution_count": 48,
   "metadata": {},
   "outputs": [],
   "source": [
    "def cleanText(fileName):\n",
    "  # Reading all the text from one of the books.\n",
    "  with open(\"books/\" + fileName + \".txt\", 'r') as file:\n",
    "    bookText = file.read()\n",
    "\n",
    "  # Removing the preamble.\n",
    "  preamble_end_pos = bookText.find(\"*** START\")\n",
    "  bookText = bookText[preamble_end_pos:]\n",
    "\n",
    "  # Removing the postamble.\n",
    "  postamble_start_pos = bookText.find(\"*** END\")\n",
    "  bookText = bookText[:postamble_start_pos]\n",
    "\n",
    "  # Printing to check if it worked.\n",
    "  #print(bookText)\n",
    "\n",
    "  # Convert everything to upper case.\n",
    "  bookText = bookText.upper()\n",
    "\n",
    "  # The characters to keep.\n",
    "  keep = \"ABCDEFGHIJKLMNOPQRSTUVWXYZ .\"\n",
    "\n",
    "  # Removing all the characters that are not in the keep string.\n",
    "  cleaned = ''.join([c for c in bookText if c in keep])\n",
    "\n",
    "  # Printing to check if it worked.\n",
    "  #print(cleaned)\n",
    "\n",
    "  return cleaned"
   ]
  },
  {
   "cell_type": "markdown",
   "metadata": {},
   "source": [
    "Now I need to add all the book text together in to one big string."
   ]
  },
  {
   "cell_type": "code",
   "execution_count": 49,
   "metadata": {},
   "outputs": [],
   "source": [
    "# List of books to go through.\n",
    "file_names = [\"book1\", \"book2\", \"book3\", \"book4\", \"book5\"]\n",
    "\n",
    "# Go through every book and add them to the string.\n",
    "allText = \"\"\n",
    "\n",
    "for file_name in file_names:\n",
    "  allText += cleanText(file_name)\n",
    "\n",
    "# Printing to check if it worked.\n",
    "#print(allText)"
   ]
  }
 ],
 "metadata": {
  "kernelspec": {
   "display_name": "base",
   "language": "python",
   "name": "python3"
  },
  "language_info": {
   "codemirror_mode": {
    "name": "ipython",
    "version": 3
   },
   "file_extension": ".py",
   "mimetype": "text/x-python",
   "name": "python",
   "nbconvert_exporter": "python",
   "pygments_lexer": "ipython3",
   "version": "3.11.5"
  }
 },
 "nbformat": 4,
 "nbformat_minor": 2
}
