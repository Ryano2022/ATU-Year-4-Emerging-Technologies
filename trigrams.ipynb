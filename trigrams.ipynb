{
 "cells": [
  {
   "cell_type": "code",
   "execution_count": 1,
   "metadata": {},
   "outputs": [],
   "source": [
    "# Imports\n",
    "import random\n",
    "import json"
   ]
  },
  {
   "cell_type": "markdown",
   "metadata": {},
   "source": [
    "Before I can get going on this I need to remove any preamble, postamble, and non ASCII characters. \n",
    "I also need to convert everything to upper case."
   ]
  },
  {
   "cell_type": "code",
   "execution_count": 2,
   "metadata": {},
   "outputs": [],
   "source": [
    "def cleanText(fileName):\n",
    "  # Reading all the text from one of the books.\n",
    "  with open(\"data/books/\" + fileName + \".txt\", 'r') as file:\n",
    "    bookText = file.read()\n",
    "\n",
    "  # Removing the preamble and postamble.\n",
    "  bookText = bookText[bookText.find(\"*** START\"):bookText.find(\"*** END\")]\n",
    "\n",
    "  # Printing to check if it worked.\n",
    "  #print(bookText)\n",
    "\n",
    "  # Convert everything to upper case.\n",
    "  bookText = bookText.upper()\n",
    "\n",
    "  # The characters to keep.\n",
    "  charsToKeep = \"ABCDEFGHIJKLMNOPQRSTUVWXYZ .\"\n",
    "\n",
    "  # Removing all the characters that are not in the keep string.\n",
    "  cleanedText = ''.join([c for c in bookText if c in charsToKeep])\n",
    "\n",
    "  # Printing to check if it worked.\n",
    "  #print(cleanedText)\n",
    "\n",
    "  return cleanedText"
   ]
  },
  {
   "cell_type": "markdown",
   "metadata": {},
   "source": [
    "Now I need to add all the book text together in to one big string."
   ]
  },
  {
   "cell_type": "code",
   "execution_count": 3,
   "metadata": {},
   "outputs": [],
   "source": [
    "# List of books to go through.\n",
    "bookNames = [\"book1\", \"book2\", \"book3\", \"book4\", \"book5\"]\n",
    "\n",
    "# Go through every book and add them to the string.\n",
    "allText = \"\"\n",
    "\n",
    "for bookName in bookNames:\n",
    "  allText += cleanText(bookName)\n",
    "\n",
    "# Printing to check if it worked.\n",
    "#print(allText)"
   ]
  },
  {
   "cell_type": "markdown",
   "metadata": {},
   "source": [
    "Next I have to create a trigram model. I have to count how many times a sequence of three character appears in the text."
   ]
  },
  {
   "cell_type": "code",
   "execution_count": 4,
   "metadata": {},
   "outputs": [
    {
     "data": {
      "text/plain": [
       "[(' ST', 3598),\n",
       " ('STA', 1507),\n",
       " ('TAR', 380),\n",
       " ('ART', 1529),\n",
       " ('RT ', 859),\n",
       " ('T O', 2164),\n",
       " (' OF', 10852),\n",
       " ('OF ', 10231),\n",
       " ('F T', 3821),\n",
       " (' TH', 33693)]"
      ]
     },
     "execution_count": 4,
     "metadata": {},
     "output_type": "execute_result"
    }
   ],
   "source": [
    "# Creating a dictionary to store the results in.\n",
    "trigrams = {}\n",
    "\n",
    "# Loop through the entire string and find the \n",
    "# characters at index i -1, i, and i +1 and add them to the dictionary.\n",
    "for i in range(1, len(allText) - 1):\n",
    "  trigram = allText[i - 1] + allText[i] + allText[i + 1]\n",
    "  trigrams[trigram] = trigrams.get(trigram, 0) + 1\n",
    "\n",
    "# Print to check if working.\n",
    "list(trigrams.items())[:10]"
   ]
  },
  {
   "cell_type": "code",
   "execution_count": 5,
   "metadata": {},
   "outputs": [
    {
     "data": {
      "text/plain": [
       "[('   ', 80495),\n",
       " (' TH', 33693),\n",
       " ('THE', 29058),\n",
       " ('HE ', 23812),\n",
       " ('ND ', 12931),\n",
       " ('AND', 12745),\n",
       " (' AN', 12251),\n",
       " (' OF', 10852),\n",
       " ('OF ', 10231),\n",
       " ('ED ', 9367)]"
      ]
     },
     "execution_count": 5,
     "metadata": {},
     "output_type": "execute_result"
    }
   ],
   "source": [
    "# Show in decreasing order (but only the first ten).\n",
    "sorted(trigrams.items(), key=lambda x: x[1], reverse=True)[:10]"
   ]
  },
  {
   "cell_type": "markdown",
   "metadata": {},
   "source": [
    "Now I need to generate 10,000 characters for the next task."
   ]
  },
  {
   "cell_type": "code",
   "execution_count": 6,
   "metadata": {},
   "outputs": [
    {
     "data": {
      "text/plain": [
       "'THE IDECTIN A GUIT BER DIVORM MY ANS FE.      HISILY WARE HEIR.       A STAL THER BUT HATIRE ANDESHO'"
      ]
     },
     "execution_count": 6,
     "metadata": {},
     "output_type": "execute_result"
    }
   ],
   "source": [
    "# Starter text.\n",
    "generatedText = \"TH\"\n",
    "\n",
    "# Keep going until the generated text is 10,000 characters long.\n",
    "while len(generatedText) < 10000:\n",
    "  # Lists to store the characters and their weights.\n",
    "  chars, weights = [], []\n",
    "\n",
    "  # Loop through the trigrams and find the ones that start with the last two characters of the generated text.\n",
    "  for key, value in trigrams.items():\n",
    "    # If the key starts with the last two characters of the generated text.\n",
    "    if key[:2] == generatedText[-2:]:\n",
    "      # Add the third character to the chars list and the value to the weights list.\n",
    "      chars.append(key[2])\n",
    "      # The value is the weight of the character.\n",
    "      weights.append(value)\n",
    "\n",
    "  # Add a random character to the generated text using the weights.\n",
    "  generatedText += random.choices(chars, weights=weights)[0]\n",
    "\n",
    "# Print the generated text (but only the first one hundred characters).\n",
    "generatedText[:100]"
   ]
  },
  {
   "cell_type": "markdown",
   "metadata": {},
   "source": [
    "Now to check how many of those characters actually ended up being English words."
   ]
  },
  {
   "cell_type": "code",
   "execution_count": 7,
   "metadata": {},
   "outputs": [],
   "source": [
    "# First read in the words.txt file.\n",
    "with open(\"data/words.txt\", 'r') as file:\n",
    "  words = file.read().splitlines()\n",
    "\n",
    "# Print to check if it worked.\n",
    "#words"
   ]
  },
  {
   "cell_type": "code",
   "execution_count": 8,
   "metadata": {},
   "outputs": [],
   "source": [
    "def realWordPercentage(text, realWords):\n",
    "  checkedWordsReal = 0\n",
    "\n",
    "  # Split the text to check in to individual words.\n",
    "  wordsToCheck = text.split()\n",
    "\n",
    "  # Count how many words are in the wordsToCheck.\n",
    "  wordCount = len(wordsToCheck)\n",
    "\n",
    "  # Loop through all the words in the wordsToCheck list.\n",
    "  for word in wordsToCheck:\n",
    "    if word in realWords:\n",
    "      checkedWordsReal += 1\n",
    "\n",
    "  # Calculate the percentage of words that are in the realWords list.\n",
    "  percentage = round(checkedWordsReal / wordCount * 100, 2)\n",
    "\n",
    "  # Return the percentage of words that are in the realWords list.\n",
    "  return percentage"
   ]
  },
  {
   "cell_type": "code",
   "execution_count": 9,
   "metadata": {},
   "outputs": [
    {
     "data": {
      "text/plain": [
       "36.27"
      ]
     },
     "execution_count": 9,
     "metadata": {},
     "output_type": "execute_result"
    }
   ],
   "source": [
    "realWordPercentage(generatedText, words)"
   ]
  },
  {
   "cell_type": "code",
   "execution_count": 10,
   "metadata": {},
   "outputs": [
    {
     "name": "stdout",
     "output_type": "stream",
     "text": [
      "Trigram model exported as trigram_model.json\n"
     ]
    }
   ],
   "source": [
    "# Export the trigram model as JSON\n",
    "with open('trigrams.json', 'w') as json_file:\n",
    "    json.dump(trigrams, json_file)\n",
    "\n",
    "# Print confirmation\n",
    "print(\"Trigram model exported as trigram_model.json\")"
   ]
  }
 ],
 "metadata": {
  "kernelspec": {
   "display_name": "base",
   "language": "python",
   "name": "python3"
  },
  "language_info": {
   "codemirror_mode": {
    "name": "ipython",
    "version": 3
   },
   "file_extension": ".py",
   "mimetype": "text/x-python",
   "name": "python",
   "nbconvert_exporter": "python",
   "pygments_lexer": "ipython3",
   "version": "3.12.4"
  }
 },
 "nbformat": 4,
 "nbformat_minor": 2
}
