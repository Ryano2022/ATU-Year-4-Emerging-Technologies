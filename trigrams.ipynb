{
 "cells": [
  {
   "cell_type": "code",
   "execution_count": 44,
   "metadata": {},
   "outputs": [],
   "source": [
    "# Imports\n",
    "import random"
   ]
  },
  {
   "cell_type": "markdown",
   "metadata": {},
   "source": [
    "Before I can get going on this I need to remove any preamble, postamble, and non ASCII characters. \n",
    "I also need to convert everything to upper case."
   ]
  },
  {
   "cell_type": "code",
   "execution_count": 45,
   "metadata": {},
   "outputs": [],
   "source": [
    "def cleanText(fileName):\n",
    "  # Reading all the text from one of the books.\n",
    "  with open(\"data/\" + fileName + \".txt\", 'r') as file:\n",
    "    bookText = file.read()\n",
    "\n",
    "  # Removing the preamble and postamble.\n",
    "  bookText = bookText[bookText.find(\"*** START\"):bookText.find(\"*** END\")]\n",
    "\n",
    "  # Printing to check if it worked.\n",
    "  #print(bookText)\n",
    "\n",
    "  # Convert everything to upper case.\n",
    "  bookText = bookText.upper()\n",
    "\n",
    "  # The characters to keep.\n",
    "  charsToKeep = \"ABCDEFGHIJKLMNOPQRSTUVWXYZ .\"\n",
    "\n",
    "  # Removing all the characters that are not in the keep string.\n",
    "  cleanedText = ''.join([c for c in bookText if c in charsToKeep])\n",
    "\n",
    "  # Printing to check if it worked.\n",
    "  #print(cleanedText)\n",
    "\n",
    "  return cleanedText"
   ]
  },
  {
   "cell_type": "markdown",
   "metadata": {},
   "source": [
    "Now I need to add all the book text together in to one big string."
   ]
  },
  {
   "cell_type": "code",
   "execution_count": 46,
   "metadata": {},
   "outputs": [],
   "source": [
    "# List of books to go through.\n",
    "bookNames = [\"book1\", \"book2\", \"book3\", \"book4\", \"book5\"]\n",
    "\n",
    "# Go through every book and add them to the string.\n",
    "allText = \"\"\n",
    "\n",
    "for bookName in bookNames:\n",
    "  allText += cleanText(bookName)\n",
    "\n",
    "# Printing to check if it worked.\n",
    "#print(allText)"
   ]
  },
  {
   "cell_type": "markdown",
   "metadata": {},
   "source": [
    "Next I have to create a trigram model. I have to count how many times a sequence of three character appears in the text."
   ]
  },
  {
   "cell_type": "code",
   "execution_count": 47,
   "metadata": {},
   "outputs": [],
   "source": [
    "# Creating a dictionary to store the results in.\n",
    "trigrams = {}\n",
    "\n",
    "# Loop through the entire string and find the \n",
    "# characters at index i -1, i, and i +1 and add them to the dictionary.\n",
    "for i in range(1, len(allText) - 1):\n",
    "  trigram = allText[i - 1] + allText[i] + allText[i + 1]\n",
    "  trigrams[trigram] = trigrams.get(trigram, 0) + 1\n",
    "\n",
    "# Print to check if working.\n",
    "#trigrams"
   ]
  },
  {
   "cell_type": "code",
   "execution_count": null,
   "metadata": {},
   "outputs": [
    {
     "data": {
      "text/plain": [
       "[('   ', 80495),\n",
       " (' TH', 33693),\n",
       " ('THE', 29058),\n",
       " ('HE ', 23812),\n",
       " ('ND ', 12931),\n",
       " ('AND', 12745),\n",
       " (' AN', 12251),\n",
       " (' OF', 10852),\n",
       " ('OF ', 10231),\n",
       " ('ED ', 9367)]"
      ]
     },
     "execution_count": 48,
     "metadata": {},
     "output_type": "execute_result"
    }
   ],
   "source": [
    "# Show in decreasing order (but only the first ten).\n",
    "sorted(trigrams.items(), key=lambda x: x[1], reverse=True)[:10]"
   ]
  },
  {
   "cell_type": "markdown",
   "metadata": {},
   "source": [
    "Now I need to generate 10,000 characters for the next task."
   ]
  },
  {
   "cell_type": "code",
   "execution_count": null,
   "metadata": {},
   "outputs": [
    {
     "data": {
      "text/plain": [
       "'THEITYTUREPRE OF ASS ONES UNT CUS WORWON OR YOUT ON ANY  YOUNDECITH SESS OBSURALL SLIEDGEOPECE HE  S'"
      ]
     },
     "execution_count": 49,
     "metadata": {},
     "output_type": "execute_result"
    }
   ],
   "source": [
    "# Starter text.\n",
    "generatedText = \"TH\"\n",
    "\n",
    "# Keep going until the generated text is 10,000 characters long.\n",
    "while len(generatedText) < 10000:\n",
    "  # Lists to store the characters and their weights.\n",
    "  chars, weights = [], []\n",
    "\n",
    "  # Loop through the trigrams and find the ones that start with the last two characters of the generated text.\n",
    "  for key, value in trigrams.items():\n",
    "    # If the key starts with the last two characters of the generated text.\n",
    "    if key[:2] == generatedText[-2:]:\n",
    "      # Add the third character to the chars list and the value to the weights list.\n",
    "      chars.append(key[2])\n",
    "      # The value is the weight of the character.\n",
    "      weights.append(value)\n",
    "\n",
    "  # Add a random character to the generated text using the weights.\n",
    "  generatedText += random.choices(chars, weights=weights)[0]\n",
    "\n",
    "# Print the generated text (but only the first one hundred characters).\n",
    "generatedText[:100]"
   ]
  }
 ],
 "metadata": {
  "kernelspec": {
   "display_name": "base",
   "language": "python",
   "name": "python3"
  },
  "language_info": {
   "codemirror_mode": {
    "name": "ipython",
    "version": 3
   },
   "file_extension": ".py",
   "mimetype": "text/x-python",
   "name": "python",
   "nbconvert_exporter": "python",
   "pygments_lexer": "ipython3",
   "version": "3.12.4"
  }
 },
 "nbformat": 4,
 "nbformat_minor": 2
}
